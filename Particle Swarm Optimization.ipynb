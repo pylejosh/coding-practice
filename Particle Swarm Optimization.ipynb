{
 "cells": [
  {
   "cell_type": "code",
   "execution_count": 5,
   "metadata": {},
   "outputs": [
    {
     "name": "stdout",
     "output_type": "stream",
     "text": [
      "  explorer color  xpos  ypos  direction  time  altitude\n",
      "0       j1     w   5.0   7.0         29     0       0.0\n",
      "1       s1     b   2.0   4.0        311     0       0.0\n",
      "2       j2     w   7.0   8.0         73     0       0.0\n",
      "3       a1     g   5.0   3.0        128     0       0.0\n"
     ]
    },
    {
     "data": {
      "image/png": "[encoded data removed]",
      "text/plain": [
       "<Figure size 432x288 with 1 Axes>"
      ]
     },
     "metadata": {
      "needs_background": "light"
     },
     "output_type": "display_data"
    }
   ],
   "source": [
    "import random\n",
    "import math\n",
    "import numpy as np\n",
    "import pandas as pd\n",
    "import matplotlib.pyplot as plt\n",
    "search_party = ['j1','s1','j2','a1']\n",
    "color = ['w','b','w','g']\n",
    "angles = random.sample(range(0,360),4)\n",
    "coordinates = np.random.randint(10, size=(4,2))\n",
    "df = pd.DataFrame(coordinates, columns = ['xpos', 'ypos'])\n",
    "df['xpos'] = df['xpos'].astype(float)\n",
    "df['ypos'] = df['ypos'].astype(float)\n",
    "df['direction'] = pd.Series(angles,index=df.index)\n",
    "df['explorer'] = pd.Series(search_party,index=df.index)\n",
    "df['color'] = pd.Series(color,index=df.index)\n",
    "df['time'] = pd.Series(0,index=df.index)\n",
    "df['altitude'] = pd.Series(0.0,index=df.index)\n",
    "df = df[['explorer', 'color','xpos', 'ypos', 'direction','time','altitude']]\n",
    "print(df)\n",
    "plt.scatter(df['xpos'],df['ypos'])\n",
    "plt.show()"
   ]
  },
  {
   "cell_type": "code",
   "execution_count": 2,
   "metadata": {},
   "outputs": [],
   "source": [
    "def ydistance(angle):\n",
    "    vertmove = round(math.sin(math.radians(angle)),6)\n",
    "    return vertmove;\n",
    "\n",
    "def xdistance(angle):\n",
    "    horizmove = round(math.cos(math.radians(angle)),6)\n",
    "    return horizmove;"
   ]
  },
  {
   "cell_type": "code",
   "execution_count": 3,
   "metadata": {},
   "outputs": [],
   "source": [
    "def evaluate(x, y):\n",
    "    altitude = math.sin(5-y)+(x/20)**2+math.cos(4+x)+(y/12)**2\n",
    "    return altitude;"
   ]
  },
  {
   "cell_type": "code",
   "execution_count": 4,
   "metadata": {},
   "outputs": [
    {
     "name": "stdout",
     "output_type": "stream",
     "text": [
      "  explorer color  xpos  ypos  direction  time  altitude\n",
      "0       j1     w   5.0   7.0        327     1 -1.417650\n",
      "1       s1     b   4.0   1.0        214     1 -0.855358\n",
      "2       j2     w   3.0   3.0        103     1  1.748200\n",
      "3       a1     w   8.0   0.0         45     1  0.044930\n"
     ]
    },
    {
     "name": "stderr",
     "output_type": "stream",
     "text": [
      "/opt/anaconda3/lib/python3.7/site-packages/ipykernel_launcher.py:2: SettingWithCopyWarning: \n",
      "A value is trying to be set on a copy of a slice from a DataFrame\n",
      "\n",
      "See the caveats in the documentation: https://pandas.pydata.org/pandas-docs/stable/user_guide/indexing.html#returning-a-view-versus-a-copy\n",
      "  \n",
      "/opt/anaconda3/lib/python3.7/site-packages/ipykernel_launcher.py:3: SettingWithCopyWarning: \n",
      "A value is trying to be set on a copy of a slice from a DataFrame\n",
      "\n",
      "See the caveats in the documentation: https://pandas.pydata.org/pandas-docs/stable/user_guide/indexing.html#returning-a-view-versus-a-copy\n",
      "  This is separate from the ipykernel package so we can avoid doing imports until\n"
     ]
    }
   ],
   "source": [
    "for i in range(0,len(df['time'])):\n",
    "    df['time'][i]=df['time'][i]+1\n",
    "    df['altitude'][i]=evaluate(df['xpos'][i],df['ypos'][i])\n",
    "print(df)"
   ]
  },
  {
   "cell_type": "code",
   "execution_count": null,
   "metadata": {},
   "outputs": [],
   "source": []
  },
  {
   "cell_type": "code",
   "execution_count": null,
   "metadata": {},
   "outputs": [],
   "source": []
  },
  {
   "cell_type": "code",
   "execution_count": null,
   "metadata": {},
   "outputs": [],
   "source": []
  }
 ],
 "metadata": {
  "kernelspec": {
   "display_name": "Python 3",
   "language": "python",
   "name": "python3"
  },
  "language_info": {
   "codemirror_mode": {
    "name": "ipython",
    "version": 3
   },
   "file_extension": ".py",
   "mimetype": "text/x-python",
   "name": "python",
   "nbconvert_exporter": "python",
   "pygments_lexer": "ipython3",
   "version": "3.7.9"
  }
 },
 "nbformat": 4,
 "nbformat_minor": 2
}
