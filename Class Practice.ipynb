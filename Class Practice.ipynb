{
 "cells": [
  {
   "cell_type": "code",
   "execution_count": 32,
   "metadata": {},
   "outputs": [
    {
     "name": "stdout",
     "output_type": "stream",
     "text": [
      "Josh is moving forward 3 steps.\n",
      "Shweta is moving forward 3 steps.\n",
      "Jadon is moving forward 1 steps.\n",
      "Aspen is moving forward 12 steps.\n",
      "Aspen is a golden puppy.\n"
     ]
    }
   ],
   "source": [
    "#Creation of Search Party Class\n",
    "class SearchParty:\n",
    "    \n",
    "    def __init__(self, name, type, age, color):\n",
    "        self.name = name\n",
    "        self.type = type\n",
    "        self.age = age\n",
    "        self.color = color\n",
    "        \n",
    "    def move(self, steps):\n",
    "        print(self.name, 'is moving forward', steps, 'steps.')\n",
    "        \n",
    "j1 = SearchParty('Josh', 'adult', '35', 'white')\n",
    "j1.move(3)\n",
    "s = SearchParty('Shweta', 'adult', '36', 'brown')\n",
    "s.move(3)\n",
    "j2 = SearchParty('Jadon', 'baby', '1', 'white')\n",
    "j2.move(1)\n",
    "a = SearchParty('Aspen', 'puppy', '0.25', 'golden')\n",
    "a.move(12)\n",
    "\n",
    "print(a.name,'is a', a.color, a.type + '.')\n",
    "\n",
    "    "
   ]
  },
  {
   "cell_type": "code",
   "execution_count": 33,
   "metadata": {},
   "outputs": [
    {
     "name": "stdout",
     "output_type": "stream",
     "text": [
      "Aspen is a golden puppy.\n"
     ]
    }
   ],
   "source": [
    "print(a.name,'is a', a.color, a.type + '.')"
   ]
  },
  {
   "cell_type": "code",
   "execution_count": null,
   "metadata": {},
   "outputs": [],
   "source": []
  }
 ],
 "metadata": {
  "kernelspec": {
   "display_name": "Python 3",
   "language": "python",
   "name": "python3"
  },
  "language_info": {
   "codemirror_mode": {
    "name": "ipython",
    "version": 3
   },
   "file_extension": ".py",
   "mimetype": "text/x-python",
   "name": "python",
   "nbconvert_exporter": "python",
   "pygments_lexer": "ipython3",
   "version": "3.7.9"
  }
 },
 "nbformat": 4,
 "nbformat_minor": 4
}
