{
 "cells": [
  {
   "cell_type": "code",
   "execution_count": 4,
   "metadata": {},
   "outputs": [
    {
     "name": "stdout",
     "output_type": "stream",
     "text": [
      "3\n"
     ]
    }
   ],
   "source": [
    "# Implement division of two positive integers without \n",
    "# using the division, multiplication, or modulus operators. \n",
    "# Return the quotient as an integer, ignoring the remainder.\n",
    "\n",
    "def remainder(x, y):\n",
    "    c = 0\n",
    "    d = y - x\n",
    "    while d >= 0:\n",
    "        d = d - x\n",
    "        c += 1\n",
    "    return c;\n",
    "\n",
    "samplenum = remainder(3,9)\n",
    "print(samplenum)"
   ]
  },
  {
   "cell_type": "code",
   "execution_count": 7,
   "metadata": {},
   "outputs": [
    {
     "name": "stdout",
     "output_type": "stream",
     "text": [
      "It took 1 draws before we found a number not in our list, but finally we drew 3!\n"
     ]
    }
   ],
   "source": [
    "# Given an integer n and a list of integers l, \n",
    "# write a function that randomly generates a number \n",
    "# from 0 to n-1 that isn't in l (uniform)\n",
    "\n",
    "import numpy as np\n",
    "\n",
    "l = [0,2,4,5,7,8,9]\n",
    "\n",
    "def numgen(n, x):\n",
    "    r = np.random.randint(n-1)\n",
    "    c = 0\n",
    "    while r in x:\n",
    "        r = np.random.randint(n-1)\n",
    "        c += 1\n",
    "    print(\"It took \" + str(c) +\" draws before we found a number not in our list, but finally we drew \" + str(r) + \"!\")\n",
    "    return c;    \n",
    "\n",
    "example = numgen(10,l)"
   ]
  },
  {
   "cell_type": "code",
   "execution_count": 68,
   "metadata": {},
   "outputs": [
    {
     "name": "stdout",
     "output_type": "stream",
     "text": [
      "Index  0  Results:\n",
      "\n",
      "1\n",
      "7\n",
      "False\n",
      "1\n",
      "8\n",
      "False\n",
      "1\n",
      "9\n",
      "False\n",
      "Index  1  Results:\n",
      "\n",
      "7\n",
      "8\n",
      "False\n",
      "7\n",
      "9\n",
      "False\n",
      "Index  2  Results:\n",
      "\n",
      "8\n",
      "9\n",
      "False\n",
      "Index  3  Results:\n",
      "\n",
      "We did not find a match; sorry!\n"
     ]
    }
   ],
   "source": [
    "# Problem 1\n",
    "# This problem was recently asked by Google.\n",
    "# Given a list of numbers and a number k, return whether any two numbers from the list add up to k.\n",
    "# For example, given [10, 15, 3, 7] and k of 17, return true since 10 + 7 is 17.\n",
    "# Bonus: Can you do this in one pass?\n",
    "\n",
    "l = [1,7,8,9]\n",
    "pair_sum_match = False\n",
    "\n",
    "def addup(l,k):\n",
    "    pair_sum_match = False\n",
    "    for i in range(0, len(l)):\n",
    "        if pair_sum_match == False: \n",
    "            print(\"Index \",i,\" Results:\\n\")\n",
    "            first_num = l[i]\n",
    "            for j in range(i+1, len(l)):\n",
    "                second_num = l[j]\n",
    "                pair_sum_match = first_num + second_num == k\n",
    "                print(first_num)\n",
    "                print(second_num)\n",
    "                print(pair_sum_match)\n",
    "\n",
    "    if pair_sum_match == True:\n",
    "        match_result = str('We did find a match!  Numbers ' + str(first_num) + ' & ' + str(second_num) + ' sum to ' + str(k) + '!')\n",
    "    else: \n",
    "        match_result = str('We did not find a match; sorry!') \n",
    "        \n",
    "    return match_result;\n",
    "    \n",
    "problem1 = addup(l,12) \n",
    "print(problem1)\n"
   ]
  },
  {
   "cell_type": "code",
   "execution_count": 97,
   "metadata": {},
   "outputs": [
    {
     "name": "stdout",
     "output_type": "stream",
     "text": [
      "[120, 60, 40, 30, 24]\n"
     ]
    }
   ],
   "source": [
    "# Problem 2\n",
    "# This problem was asked by Uber.\n",
    "# Given an array of integers, return a new array such that each element at index i of the new array is the product of all the numbers in the original array except the one at i.\n",
    "# For example, if our input was [1, 2, 3, 4, 5], the expected output would be [120, 60, 40, 30, 24]. If our input was [3, 2, 1], the expected output would be [2, 3, 6].\n",
    "# Follow-up: what if you can't use division?\n",
    "\n",
    "l = [1,2,3,4,5]\n",
    "j=[]\n",
    "    \n",
    "def list_product(l):\n",
    "    for i1 in range(len(l)):\n",
    "        k=l.copy()\n",
    "        k[i1]=1\n",
    "        cumulative_product=1\n",
    "        for i2 in range(len(l)):\n",
    "            cumulative_product = cumulative_product * k[i2]\n",
    "        j.append(cumulative_product)\n",
    "    return j;\n",
    "\n",
    "problem_2 = list_product(l)\n",
    "print(problem_2)"
   ]
  },
  {
   "cell_type": "code",
   "execution_count": 98,
   "metadata": {},
   "outputs": [
    {
     "name": "stdout",
     "output_type": "stream",
     "text": [
      "This question makes absolutely no sense!\n"
     ]
    }
   ],
   "source": [
    "# Problem 3\n",
    "# Given the root to a binary tree, implement serialize(root), which serializes the tree into a string, and deserialize(s), which deserializes the string back into the tree.\n",
    "\n",
    "# For example, given the following Node class\n",
    "\n",
    "# class Node:\n",
    "#     def __init__(self, val, left=None, right=None):\n",
    "#         self.val = val\n",
    "#         self.left = left\n",
    "#         self.right = right\n",
    "# The following test should pass:\n",
    "\n",
    "# node = Node('root', Node('left', Node('left.left')), Node('right'))\n",
    "# assert deserialize(serialize(node)).left.left.val == 'left.left'\n",
    "\n",
    "print('This question makes absolutely no sense!')"
   ]
  },
  {
   "cell_type": "code",
   "execution_count": 4,
   "metadata": {},
   "outputs": [
    {
     "name": "stdout",
     "output_type": "stream",
     "text": [
      "The first positive integer not in the array is 5\n"
     ]
    }
   ],
   "source": [
    "# Problem 4\n",
    "# This problem was asked by Stripe.\n",
    "# Given an array of integers, find the first missing positive integer in linear time and constant space. In other words, find the lowest positive integer that does not exist in the array. The array can contain duplicates and negative numbers as well.\n",
    "# For example, the input [3, 4, -1, 1] should give 2. The input [1, 2, 0] should give 3.\n",
    "# You can modify the input array in-place.\n",
    "\n",
    "l = [0, 2, 1, 3, 4, 18]\n",
    "\n",
    "def list_check(l):\n",
    "    i = 1\n",
    "    check = True\n",
    "    l_revised = sorted(l)\n",
    "    while check == True:\n",
    "        if i in l_revised:\n",
    "            check = True\n",
    "            i += 1\n",
    "        else:\n",
    "            return print(\"The first positive integer not in the array is\", str(i));\n",
    "\n",
    "problem_4 = list_check(l)"
   ]
  },
  {
   "cell_type": "code",
   "execution_count": 6,
   "metadata": {},
   "outputs": [
    {
     "name": "stdout",
     "output_type": "stream",
     "text": [
      "[   1    4   16   25 2500]\n"
     ]
    }
   ],
   "source": [
    "# Problem 118\n",
    "# Given a sorted list of integers, square the elements and give the output in sorted order.\n",
    "# For example, given [-9, -2, 0, 2, 3], return [0, 4, 4, 9, 81].\n",
    "\n",
    "import numpy as np\n",
    "\n",
    "def squareandreturn (x):\n",
    "    squares = np.square(x)\n",
    "    sortedsquares = np.sort(squares)\n",
    "    return print(sortedsquares)\n",
    "\n",
    "squareandreturn([2,-4,5,1,50])"
   ]
  },
  {
   "cell_type": "code",
   "execution_count": 7,
   "metadata": {},
   "outputs": [],
   "source": [
    "# Problem 394\n",
    "\n",
    "'''\n",
    "This problem was asked by Uber.\n",
    "\n",
    "Given a binary tree and an integer k, return whether there exists a root-to-leaf path that sums up to k.\n",
    "\n",
    "For example, given k = 18 and the following binary tree:\n",
    "\n",
    "    8\n",
    "   / \\\n",
    "  4   13\n",
    " / \\   \\\n",
    "2   6   19\n",
    "Return True since the path 8 -> 4 -> 6 sums to 18.'''\n",
    "\n",
    "class Node:\n",
    "    def __init__(self, val, left=None, right=None):\n",
    "        self.val = val\n",
    "        self.left = left\n",
    "        self.right = right\n",
    "        \n",
    "def path_exists(node, k):\n",
    "    if node is None:\n",
    "        return False\n",
    "\n",
    "    if node.left is None and node.right is None:\n",
    "        return node.val == k\n",
    "\n",
    "    return path_exists(node.left, k - node.val) or path_exists(node.right, k - node.val)"
   ]
  },
  {
   "cell_type": "code",
   "execution_count": 8,
   "metadata": {},
   "outputs": [
    {
     "data": {
      "text/plain": [
       "'\\nThis problem was asked by Twitter.\\n\\nGiven a string, sort it in decreasing order based on the frequency of characters. If there are multiple possible solutions, return any of them.\\n\\nFor example, given the string tweet, return tteew. eettw would also be acceptable.\\n'"
      ]
     },
     "execution_count": 8,
     "metadata": {},
     "output_type": "execute_result"
    }
   ],
   "source": [
    "# Problem 386\n",
    "'''\n",
    "This problem was asked by Twitter.\n",
    "\n",
    "Given a string, sort it in decreasing order based on the frequency of characters. If there are multiple possible solutions, return any of them.\n",
    "\n",
    "For example, given the string tweet, return tteew. eettw would also be acceptable.\n",
    "'''\n",
    "\n"
   ]
  },
  {
   "cell_type": "code",
   "execution_count": 75,
   "metadata": {},
   "outputs": [
    {
     "name": "stdout",
     "output_type": "stream",
     "text": [
      "43466557686937456435688527675040625802564660517371780402481729089536555417949051890403879840079255169295922593080322634775209689623239873322471161642996440906533187938298969649928516003704476137795166849228875\n",
      "This process took 0.0007 seconds.\n"
     ]
    }
   ],
   "source": [
    "# Problem 451\n",
    "'''This problem was asked by Apple.\n",
    "\n",
    "Implement the function fib(n), which returns the nth number in the Fibonacci sequence, using only O(1) space.'''\n",
    "\n",
    "import time\n",
    "\n",
    "starttime = time.time()\n",
    "\n",
    "def fib(n):\n",
    "    sequence = [0,1]\n",
    "    index = 1\n",
    "    while index < n:\n",
    "        nextdigit = sequence[0] + sequence[1]\n",
    "        sequence.append(nextdigit)\n",
    "        sequence.pop(0)\n",
    "        index += 1\n",
    "    return sequence[1]\n",
    "\n",
    "print(fib(1000))\n",
    "\n",
    "endtime = time.time()\n",
    "taskduration = round(endtime - starttime,4)\n",
    "\n",
    "print('This process took ' + str(taskduration) + ' seconds.')"
   ]
  },
  {
   "cell_type": "code",
   "execution_count": 20,
   "metadata": {},
   "outputs": [
    {
     "name": "stdout",
     "output_type": "stream",
     "text": [
      "1\n",
      "2\n",
      "3\n",
      "4\n",
      "5\n",
      "6\n",
      "7\n",
      "8\n",
      "9\n",
      "10\n"
     ]
    }
   ],
   "source": [
    "functions = []\n",
    "for i in range(10):\n",
    "    x = lambda i : i + 1\n",
    "    functions.append(x(i))\n",
    "\n",
    "for f in functions:\n",
    "    print(f)"
   ]
  },
  {
   "cell_type": "code",
   "execution_count": null,
   "metadata": {},
   "outputs": [],
   "source": []
  }
 ],
 "metadata": {
  "kernelspec": {
   "display_name": "Python 3",
   "language": "python",
   "name": "python3"
  },
  "language_info": {
   "codemirror_mode": {
    "name": "ipython",
    "version": 3
   },
   "file_extension": ".py",
   "mimetype": "text/x-python",
   "name": "python",
   "nbconvert_exporter": "python",
   "pygments_lexer": "ipython3",
   "version": "3.7.9"
  }
 },
 "nbformat": 4,
 "nbformat_minor": 4
}
