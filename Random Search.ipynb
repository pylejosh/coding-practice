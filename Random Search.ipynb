{
 "cells": [
  {
   "cell_type": "code",
   "execution_count": 101,
   "metadata": {},
   "outputs": [
    {
     "name": "stdout",
     "output_type": "stream",
     "text": [
      "[ 7  8  1 ...  4 -3  0]\n"
     ]
    },
    {
     "data": {
      "image/png": "[encoded data removed]",
      "text/plain": [
       "<Figure size 432x288 with 1 Axes>"
      ]
     },
     "metadata": {
      "needs_background": "light"
     },
     "output_type": "display_data"
    }
   ],
   "source": [
    "import random\n",
    "import numpy as np\n",
    "import pandas as pd\n",
    "import matplotlib.pyplot as plt\n",
    "\n",
    "epsilon = 0.01\n",
    "modes = ['conservative', 'aggressive']\n",
    "aresults = []\n",
    "cresults = []\n",
    "\n",
    "for i in range(100000):\n",
    "    \n",
    "#    print(\"Sample \" + str(i + 1))\n",
    "    hiddennumber = round(random.random() , 3)\n",
    "#    print('Hidden Number is ' + str(hiddennumber))\n",
    "\n",
    "    for mode in modes:\n",
    "\n",
    "        lowerbound = 0\n",
    "        upperbound = 1\n",
    "        match = 'no'\n",
    "        numguesses = 1\n",
    "        guesses = []\n",
    "        \n",
    "        while match == 'no':\n",
    "\n",
    "            if mode == 'conservative':\n",
    "                guess = round((lowerbound + upperbound) / 2 , 3)\n",
    "                guesses.append(guess)\n",
    "            else:\n",
    "                guess = round(random.random() * (upperbound - lowerbound) + lowerbound , 3)\n",
    "                guesses.append(guess)\n",
    "\n",
    "            if abs(guess - hiddennumber) <= epsilon:\n",
    "                match = 'yes'\n",
    "#                print('In ' + mode + ' mode, it took you this many guesses: ' + str(numguesses))\n",
    "#                print('Guesses: ' + str(guesses))\n",
    "                if mode == 'conservative':\n",
    "                    cresults.append(numguesses)\n",
    "                else:\n",
    "                    aresults.append(numguesses)\n",
    "            elif guess > hiddennumber:\n",
    "                upperbound = guess\n",
    "                numguesses += 1        \n",
    "            else:\n",
    "                lowerbound = guess\n",
    "                numguesses += 1\n",
    " \n",
    "carray = np.array(cresults)\n",
    "aarray = np.array(aresults)\n",
    "diff = np.subtract(aresults, cresults)\n",
    "print(diff)\n",
    "\n",
    "num_bins = 20\n",
    "n, bins, patches = plt.hist(diff, num_bins, facecolor='green', alpha=0.5)\n",
    "plt.show()"
   ]
  },
  {
   "cell_type": "code",
   "execution_count": null,
   "metadata": {},
   "outputs": [],
   "source": []
  }
 ],
 "metadata": {
  "kernelspec": {
   "display_name": "Python 3",
   "language": "python",
   "name": "python3"
  },
  "language_info": {
   "codemirror_mode": {
    "name": "ipython",
    "version": 3
   },
   "file_extension": ".py",
   "mimetype": "text/x-python",
   "name": "python",
   "nbconvert_exporter": "python",
   "pygments_lexer": "ipython3",
   "version": "3.7.9"
  }
 },
 "nbformat": 4,
 "nbformat_minor": 4
}
